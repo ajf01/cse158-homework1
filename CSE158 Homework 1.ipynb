{
 "cells": [
  {
   "cell_type": "markdown",
   "metadata": {},
   "source": [
    "# Code Start"
   ]
  },
  {
   "cell_type": "code",
   "execution_count": 1,
   "metadata": {},
   "outputs": [],
   "source": [
    "import numpy as np\n",
    "import pandas as pd\n",
    "\n",
    "from urllib.request import urlopen\n",
    "\n",
    "import scipy.optimize\n",
    "import random\n",
    "import matplotlib.pyplot as plt\n",
    "\n",
    "from sklearn.model_selection import train_test_split\n",
    "from sklearn.linear_model import LinearRegression\n",
    "from sklearn.linear_model import LogisticRegression"
   ]
  },
  {
   "cell_type": "code",
   "execution_count": 2,
   "metadata": {},
   "outputs": [],
   "source": [
    "def parseData(fname):\n",
    "  for l in open(fname):\n",
    "    yield eval(l)"
   ]
  },
  {
   "cell_type": "code",
   "execution_count": 3,
   "metadata": {},
   "outputs": [],
   "source": [
    "#Parses the fantasy json file\n",
    "parsed_fan = list(parseData(\"fantasy_10000.json\"))"
   ]
  },
  {
   "cell_type": "markdown",
   "metadata": {},
   "source": [
    "# Problem 1"
   ]
  },
  {
   "cell_type": "code",
   "execution_count": 4,
   "metadata": {},
   "outputs": [],
   "source": [
    "#Retrieves the review length and ratings from the parsed text\n",
    "review_len = [len(d['review_text']) for d in parsed_fan]\n",
    "ratings = [d['rating'] for d in parsed_fan]"
   ]
  },
  {
   "cell_type": "code",
   "execution_count": 5,
   "metadata": {},
   "outputs": [
    {
     "data": {
      "text/plain": [
       "<matplotlib.collections.PathCollection at 0x206e01be508>"
      ]
     },
     "execution_count": 5,
     "metadata": {},
     "output_type": "execute_result"
    },
    {
     "data": {
      "image/png": "[encoded data removed]",
      "text/plain": [
       "<Figure size 432x288 with 1 Axes>"
      ]
     },
     "metadata": {
      "needs_background": "light"
     },
     "output_type": "display_data"
    }
   ],
   "source": [
    "#Plots the review length against ratings as a scatter\n",
    "plt.scatter(review_len,ratings)"
   ]
  },
  {
   "cell_type": "code",
   "execution_count": 6,
   "metadata": {},
   "outputs": [
    {
     "data": {
      "text/plain": [
       "{'0 Stars': 326,\n",
       " '1 Stars': 286,\n",
       " '2 Stars': 778,\n",
       " '3 Stars': 2113,\n",
       " '4 Stars': 3265,\n",
       " '5 Stars': 3232}"
      ]
     },
     "execution_count": 6,
     "metadata": {},
     "output_type": "execute_result"
    },
    {
     "data": {
      "image/png": "[encoded data removed]",
      "text/plain": [
       "<Figure size 432x288 with 1 Axes>"
      ]
     },
     "metadata": {
      "needs_background": "light"
     },
     "output_type": "display_data"
    }
   ],
   "source": [
    "#Counts the amount of each star rating\n",
    "zero = ratings.count(0)\n",
    "one = ratings.count(1)\n",
    "two = ratings.count(2)\n",
    "three = ratings.count(3)\n",
    "four = ratings.count(4)\n",
    "five = ratings.count(5)\n",
    "\n",
    "#Plots the amount of star ratings against their respective counts\n",
    "plt.bar([0,1,2,3,4,5],[zero,one,two,three,four,five])\n",
    "plt.xlabel('Stars')\n",
    "plt.ylabel('Count')\n",
    "plt.title('Star Distribution')\n",
    "{'0 Stars':zero,'1 Stars':one,'2 Stars':two,'3 Stars':three,'4 Stars':four,'5 Stars':five}"
   ]
  },
  {
   "cell_type": "markdown",
   "metadata": {},
   "source": [
    "# Problem 2"
   ]
  },
  {
   "cell_type": "code",
   "execution_count": 7,
   "metadata": {},
   "outputs": [
    {
     "data": {
      "text/plain": [
       "{'Theta 0': 3.685681355016952,\n",
       " 'Theta 1': 6.873716748962768e-05,\n",
       " 'Mean Squared Error': 1.5522086622355349}"
      ]
     },
     "execution_count": 7,
     "metadata": {},
     "output_type": "execute_result"
    }
   ],
   "source": [
    "#Uses sklearn to train a Linear Regression Model to obtain the intercept and coefficient values\n",
    "inter = LinearRegression().fit(np.array(review_len).reshape(-1, 1), np.array(ratings).reshape(-1, 1)).intercept_\n",
    "coef = LinearRegression().fit(np.array(review_len).reshape(-1, 1), np.array(ratings).reshape(-1, 1)).coef_\n",
    "\n",
    "#Uses the intercept and coefficient values to create predictions and calculate the mean squared error\n",
    "pred = inter + ([coef[0][0]*x for x in review_len])\n",
    "mse = (sum((ratings - pred)**2))/len(pred)\n",
    "{'Theta 0': inter[0], 'Theta 1': coef[0][0], 'Mean Squared Error': mse}"
   ]
  },
  {
   "cell_type": "markdown",
   "metadata": {},
   "source": [
    "# Problem 3"
   ]
  },
  {
   "cell_type": "code",
   "execution_count": 8,
   "metadata": {},
   "outputs": [
    {
     "data": {
      "text/plain": [
       "{'Theta 0': 3.689167374290135,\n",
       " 'Theta 1': 7.584074903973375e-05,\n",
       " 'Theta 2': -0.03279289354454786,\n",
       " 'Mean Squared Error': 1.5498351692774623}"
      ]
     },
     "execution_count": 8,
     "metadata": {},
     "output_type": "execute_result"
    }
   ],
   "source": [
    "#Uses sklearn to train a Linear Regression Model to obtain the intercept and coefficient values\n",
    "comments = [d['n_comments'] for d in parsed_fan]\n",
    "inter2D = LinearRegression().fit(np.array([review_len,comments]).T, np.array(ratings).reshape(-1, 1)).intercept_\n",
    "coef2D = LinearRegression().fit(np.array([review_len,comments]).T, np.array(ratings).reshape(-1, 1)).coef_\n",
    "\n",
    "#Uses the intercept and coefficient values to create predictions and calculate the mean squared error\n",
    "pred2D = inter2D + ([coef2D[0][0]*x for x in review_len]) + ([coef2D[0][1]*x for x in comments])\n",
    "mse2D = (sum((ratings - pred2D)**2))/len(pred2D)\n",
    "{'Theta 0': inter2D[0], 'Theta 1': coef2D[0][0],'Theta 2': coef2D[0][1], 'Mean Squared Error': mse2D}"
   ]
  },
  {
   "cell_type": "markdown",
   "metadata": {},
   "source": [
    "The coefficient for Theta 1 in this model is different than the coefficient for Theta 1 in question 2, because this model has a second feature variable. This second feature variable gives the model a better understanding of how to predict ratings, and as such adjusted the coefficient of Theta 1 to a better value in order to reduce the Mean Squared Error."
   ]
  },
  {
   "cell_type": "markdown",
   "metadata": {},
   "source": [
    "# Problem 4"
   ]
  },
  {
   "cell_type": "code",
   "execution_count": 9,
   "metadata": {},
   "outputs": [],
   "source": [
    "#Rescales review length feature by dividing every value by the largest review length\n",
    "divided_review = [x/max(review_len) for x in review_len]\n",
    "divided_review2 = [x**2 for x in divided_review]\n",
    "divided_review3 = [x**3 for x in divided_review]\n",
    "divided_review4 = [x**4 for x in divided_review]\n",
    "divided_review5 = [x**5 for x in divided_review]"
   ]
  },
  {
   "cell_type": "code",
   "execution_count": 10,
   "metadata": {},
   "outputs": [],
   "source": [
    "#Uses sklearn to train a 5 different Linear Regression Models of different degrees\n",
    "firDeMo = LinearRegression().fit(np.array(divided_review).reshape(-1, 1), np.array(ratings).reshape(-1, 1))\n",
    "seDeMo = LinearRegression().fit(np.array([divided_review,divided_review2]).T, np.array(ratings).reshape(-1, 1))\n",
    "thDeMo = LinearRegression().fit(np.array([divided_review,divided_review2,divided_review3]).T, np.array(ratings).reshape(-1, 1))\n",
    "foDeMo = LinearRegression().fit(np.array([divided_review,divided_review2,divided_review3,divided_review4]).T, np.array(ratings).reshape(-1, 1))\n",
    "fiDeMo = LinearRegression().fit(np.array([divided_review,divided_review2,divided_review3,divided_review4,divided_review5]).T, np.array(ratings).reshape(-1, 1))\n",
    "\n",
    "#Uses the trained Linear Regression Models to obtain the intercepts\n",
    "firDeIn = firDeMo.intercept_\n",
    "seDeIn = seDeMo.intercept_\n",
    "thDeIn = thDeMo.intercept_\n",
    "foDeIn = foDeMo.intercept_\n",
    "fiDeIn = fiDeMo.intercept_\n",
    "\n",
    "#Uses the trained Linear Regression Models to obtain the coefficients\n",
    "firDeCo = firDeMo.coef_\n",
    "seDeCo = seDeMo.coef_\n",
    "thDeCo = thDeMo.coef_\n",
    "foDeCo = foDeMo.coef_\n",
    "fiDeCo = fiDeMo.coef_"
   ]
  },
  {
   "cell_type": "code",
   "execution_count": 11,
   "metadata": {},
   "outputs": [],
   "source": [
    "#Uses the intercept and coefficient values of all the models to create predictions\n",
    "predFir = firDeIn + ([firDeCo[0][0]*x for x in divided_review])\n",
    "predSe = seDeIn + ([seDeCo[0][0]*x for x in divided_review]) + ([seDeCo[0][1]*x for x in divided_review2])\n",
    "predTh = thDeIn + ([thDeCo[0][0]*x for x in divided_review]) + ([thDeCo[0][1]*x for x in divided_review2]) + ([thDeCo[0][2]*x for x in divided_review3])\n",
    "predFo = foDeIn + ([foDeCo[0][0]*x for x in divided_review]) + ([foDeCo[0][1]*x for x in divided_review2]) + ([foDeCo[0][2]*x for x in divided_review3]) + ([foDeCo[0][3]*x for x in divided_review4])\n",
    "predFi = fiDeIn + ([fiDeCo[0][0]*x for x in divided_review]) + ([fiDeCo[0][1]*x for x in divided_review2]) + ([fiDeCo[0][2]*x for x in divided_review3]) + ([fiDeCo[0][3]*x for x in divided_review4]) + ([fiDeCo[0][4]*x for x in divided_review5])"
   ]
  },
  {
   "cell_type": "code",
   "execution_count": 12,
   "metadata": {},
   "outputs": [],
   "source": [
    "#Uses the predictions from all models to calculate the mean squared error\n",
    "mseFir = (sum((ratings - predFir)**2))/len(predFir)\n",
    "mseSe = (sum((ratings - predSe)**2))/len(predSe)\n",
    "mseTh = (sum((ratings - predTh)**2))/len(predTh)\n",
    "mseFo = (sum((ratings - predFo)**2))/len(predFo)\n",
    "mseFi = (sum((ratings - predFi)**2))/len(predFi)"
   ]
  },
  {
   "cell_type": "code",
   "execution_count": 13,
   "metadata": {},
   "outputs": [
    {
     "data": {
      "text/plain": [
       "{'MSE Degree 1': 1.5522086622355349,\n",
       " 'MSE Degree 2': 1.5506567696339435,\n",
       " 'MSE Degree 3': 1.5497985323805485,\n",
       " 'MSE Degree 4': 1.5496291324524716,\n",
       " 'MSE Degree 5': 1.5496142023298654}"
      ]
     },
     "execution_count": 13,
     "metadata": {},
     "output_type": "execute_result"
    }
   ],
   "source": [
    "{'MSE Degree 1':mseFir,'MSE Degree 2':mseSe,'MSE Degree 3':mseTh,'MSE Degree 4':mseFo,'MSE Degree 5':mseFi}"
   ]
  },
  {
   "cell_type": "markdown",
   "metadata": {},
   "source": [
    "# Problem 5"
   ]
  },
  {
   "cell_type": "code",
   "execution_count": 14,
   "metadata": {},
   "outputs": [],
   "source": [
    "#Splits the rescaled review length data randomly in half\n",
    "x_train, x_test, y_train, y_test = train_test_split(divided_review, ratings, test_size=0.5)\n",
    "x_train2, x_test2, y_train2, y_test2 = train_test_split(divided_review2, ratings, test_size=0.5)\n",
    "x_train3, x_test3, y_train3, y_test3 = train_test_split(divided_review3, ratings, test_size=0.5)\n",
    "x_train4, x_test4, y_train4, y_test4 = train_test_split(divided_review4, ratings, test_size=0.5)\n",
    "x_train5, x_test5, y_train5, y_test5 = train_test_split(divided_review5, ratings, test_size=0.5)"
   ]
  },
  {
   "cell_type": "code",
   "execution_count": 15,
   "metadata": {},
   "outputs": [],
   "source": [
    "#Uses sklearn to train a 5 different Linear Regression Models of different degrees using the training set\n",
    "firDeTr = LinearRegression().fit(np.array(x_train).reshape(-1, 1), np.array(y_train).reshape(-1, 1))\n",
    "seDeTr = LinearRegression().fit(np.array([x_train,x_train2]).T, np.array(y_train2).reshape(-1, 1))\n",
    "thDeTr = LinearRegression().fit(np.array([x_train,x_train2,x_train3]).T, np.array(y_train3).reshape(-1, 1))\n",
    "foDeTr = LinearRegression().fit(np.array([x_train,x_train2,x_train3,x_train4]).T, np.array(y_train4).reshape(-1, 1))\n",
    "fiDeTr = LinearRegression().fit(np.array([x_train,x_train2,x_train3,x_train4,x_train5]).T, np.array(y_train5).reshape(-1, 1))\n",
    "\n",
    "#Uses the trained Linear Regression Models to obtain the intercept\n",
    "firIn = firDeTr.intercept_\n",
    "seIn = seDeTr.intercept_\n",
    "thIn = thDeTr.intercept_\n",
    "foIn = foDeTr.intercept_\n",
    "fiIn = fiDeTr.intercept_\n",
    "\n",
    "#Uses the trained Linear Regression Models to obtain the coefficients\n",
    "firCo = firDeTr.coef_\n",
    "seCo = seDeTr.coef_\n",
    "thCo = thDeTr.coef_\n",
    "foCo = foDeTr.coef_\n",
    "fiCo = fiDeTr.coef_"
   ]
  },
  {
   "cell_type": "code",
   "execution_count": 16,
   "metadata": {},
   "outputs": [],
   "source": [
    "#Uses the intercept and coefficient values to create predictions for the training set\n",
    "predFirTr = firIn + ([firCo[0][0]*x for x in x_train])\n",
    "predSeTr = seIn + ([seCo[0][0]*x for x in x_train]) + ([seCo[0][1]*x for x in x_train2])\n",
    "predThTr = thIn + ([thCo[0][0]*x for x in x_train]) + ([thCo[0][1]*x for x in x_train2]) + ([thCo[0][2]*x for x in x_train3])\n",
    "predFoTr = foIn + ([foCo[0][0]*x for x in x_train]) + ([foCo[0][1]*x for x in x_train2]) + ([foCo[0][2]*x for x in x_train3]) + ([foCo[0][3]*x for x in x_train4])\n",
    "predFiTr = fiIn + ([fiCo[0][0]*x for x in x_train]) + ([fiCo[0][1]*x for x in x_train2]) + ([fiCo[0][2]*x for x in x_train3]) + ([fiCo[0][3]*x for x in x_train4]) + ([fiCo[0][4]*x for x in x_train5])"
   ]
  },
  {
   "cell_type": "code",
   "execution_count": 17,
   "metadata": {},
   "outputs": [],
   "source": [
    "#Uses the training predictions to calculate the mean squared error for the training set\n",
    "mseFirTr = (sum((y_train - predFirTr)**2))/len(predFirTr)\n",
    "mseSeTr = (sum((y_train2 - predSeTr)**2))/len(predSeTr)\n",
    "mseThTr = (sum((y_train3 - predThTr)**2))/len(predThTr)\n",
    "mseFoTr = (sum((y_train4 - predFoTr)**2))/len(predFoTr)\n",
    "mseFiTr = (sum((y_train5 - predFiTr)**2))/len(predFiTr)"
   ]
  },
  {
   "cell_type": "code",
   "execution_count": 18,
   "metadata": {},
   "outputs": [],
   "source": [
    "#Uses the intercept and coefficient values to create predictions for the test set\n",
    "predFirTe = firIn + ([firCo[0][0]*x for x in x_test])\n",
    "predSeTe = seIn + ([seCo[0][0]*x for x in x_test]) + ([seCo[0][1]*x for x in x_test2])\n",
    "predThTe = thIn + ([thCo[0][0]*x for x in x_test]) + ([thCo[0][1]*x for x in x_test2]) + ([thCo[0][2]*x for x in x_test3])\n",
    "predFoTe = foIn + ([foCo[0][0]*x for x in x_test]) + ([foCo[0][1]*x for x in x_test2]) + ([foCo[0][2]*x for x in x_test3]) + ([foCo[0][3]*x for x in x_test4])\n",
    "predFiTe = fiIn + ([fiCo[0][0]*x for x in x_test]) + ([fiCo[0][1]*x for x in x_test2]) + ([fiCo[0][2]*x for x in x_test3]) + ([fiCo[0][3]*x for x in x_test4]) + ([fiCo[0][4]*x for x in x_test5])"
   ]
  },
  {
   "cell_type": "code",
   "execution_count": 19,
   "metadata": {},
   "outputs": [],
   "source": [
    "#Uses the test predictions to calculate the mean squared error for the test set\n",
    "mseFirTe = (sum((y_test - predFirTe)**2))/len(predFirTe)\n",
    "mseSeTe = (sum((y_test2 - predSeTe)**2))/len(predSeTe)\n",
    "mseThTe = (sum((y_test3 - predThTe)**2))/len(predThTe)\n",
    "mseFoTe = (sum((y_test4 - predFoTe)**2))/len(predFoTe)\n",
    "mseFiTe = (sum((y_test5 - predFiTe)**2))/len(predFiTe)"
   ]
  },
  {
   "cell_type": "code",
   "execution_count": 20,
   "metadata": {},
   "outputs": [
    {
     "data": {
      "text/plain": [
       "{'MSE Train Degree 1': 1.5702140380107583,\n",
       " 'MSE Train Degree 2': 1.5413548976854232,\n",
       " 'MSE Train Degree 3': 1.5354764783374562,\n",
       " 'MSE Train Degree 4': 1.559401208110402,\n",
       " 'MSE Train Degree 5': 1.5772604520589921}"
      ]
     },
     "execution_count": 20,
     "metadata": {},
     "output_type": "execute_result"
    }
   ],
   "source": [
    "{'MSE Train Degree 1':mseFirTr,'MSE Train Degree 2':mseSeTr,'MSE Train Degree 3':mseThTr,\\\n",
    "       'MSE Train Degree 4':mseFoTr,'MSE Train Degree 5':mseFiTr}"
   ]
  },
  {
   "cell_type": "code",
   "execution_count": 21,
   "metadata": {},
   "outputs": [
    {
     "data": {
      "text/plain": [
       "{'MSE Test Degree 1': 1.534597784842971,\n",
       " 'MSE Test Degree 2': 1.5711500890936245,\n",
       " 'MSE Test Degree 3': 1.5805766100838834,\n",
       " 'MSE Test Degree 4': 1.5558378839936766,\n",
       " 'MSE Test Degree 5': 1.5334510048416972}"
      ]
     },
     "execution_count": 21,
     "metadata": {},
     "output_type": "execute_result"
    }
   ],
   "source": [
    "{'MSE Test Degree 1':mseFirTe,'MSE Test Degree 2':mseSeTe,'MSE Test Degree 3':mseThTe,\\\n",
    "       'MSE Test Degree 4':mseFoTe,'MSE Test Degree 5':mseFiTe}"
   ]
  },
  {
   "cell_type": "markdown",
   "metadata": {},
   "source": [
    "# Problem 7"
   ]
  },
  {
   "cell_type": "code",
   "execution_count": 22,
   "metadata": {},
   "outputs": [],
   "source": [
    "#Parses the beer data\n",
    "parsed_beer = list(parseData(\"beer_50000.json\"))"
   ]
  },
  {
   "cell_type": "code",
   "execution_count": 23,
   "metadata": {},
   "outputs": [],
   "source": [
    "#Keeps only data where user specifies gender\n",
    "with_gender = [d for d in parsed_beer if 'user/gender' in d.keys()]"
   ]
  },
  {
   "cell_type": "code",
   "execution_count": 24,
   "metadata": {},
   "outputs": [],
   "source": [
    "#Retrieves the beer review length data and the gender data\n",
    "beer_len = [len(d['review/text']) for d in with_gender]\n",
    "#genders = [d['user/gender'] for d in with_gender]\n",
    "genders = [1 if d['user/gender'] == 'Female' else 0 for d in with_gender]"
   ]
  },
  {
   "cell_type": "code",
   "execution_count": 25,
   "metadata": {},
   "outputs": [
    {
     "name": "stderr",
     "output_type": "stream",
     "text": [
      "C:\\Users\\afong\\Anaconda3\\lib\\site-packages\\sklearn\\linear_model\\logistic.py:432: FutureWarning: Default solver will be changed to 'lbfgs' in 0.22. Specify a solver to silence this warning.\n",
      "  FutureWarning)\n"
     ]
    }
   ],
   "source": [
    "#Trains a logistic regression model with beer review length to predict gender\n",
    "clf = LogisticRegression().fit(np.array(beer_len).reshape(-1,1), np.array(genders))"
   ]
  },
  {
   "cell_type": "code",
   "execution_count": 26,
   "metadata": {},
   "outputs": [],
   "source": [
    "#Predictions for the gender given beer review lengths\n",
    "pred_LR = clf.predict(np.array(beer_len).reshape(-1,1))"
   ]
  },
  {
   "cell_type": "code",
   "execution_count": 27,
   "metadata": {},
   "outputs": [],
   "source": [
    "#Finds the True Positive, False Positive, True Negative, and False Negative array values\n",
    "TP_ = np.logical_and(pred_LR, genders)\n",
    "FP_ = np.logical_and(pred_LR, np.logical_not(genders))\n",
    "TN_ = np.logical_and(np.logical_not(pred_LR), np.logical_not(genders))\n",
    "FN_ = np.logical_and(np.logical_not(pred_LR), genders)\n",
    "\n",
    "#Finds the number of True Positive, False Positive, True Negative, and False Negative\n",
    "TP = sum(TP_)\n",
    "FP = sum(FP_)\n",
    "TN = sum(TN_)\n",
    "FN = sum(FN_)\n",
    "\n",
    "#Converts To Rates\n",
    "TPR = TP/(TP+FN)\n",
    "FPR = FP/(FP+TN)\n",
    "TNR = TN/(TN+FP)\n",
    "FNR = FN/(FN+TP)\n",
    "\n",
    "# accuracy\n",
    "#sum(correct) / len(correct)\n",
    "#(TP + TN) / (TP + FP + TN + FN)\n",
    "\n",
    "#Calculates Balanced Error Rate\n",
    "ber = 1 - 0.5 * (TP / (TP + FN) + TN / (TN + FP))"
   ]
  },
  {
   "cell_type": "code",
   "execution_count": 28,
   "metadata": {},
   "outputs": [
    {
     "data": {
      "text/plain": [
       "{'True Positive': 0.0,\n",
       " 'False Positive': 0.0,\n",
       " 'True Negative': 1.0,\n",
       " 'False Negative': 1.0,\n",
       " 'BER': 0.5}"
      ]
     },
     "execution_count": 28,
     "metadata": {},
     "output_type": "execute_result"
    }
   ],
   "source": [
    "{'True Positive':TPR,'False Positive':FPR,'True Negative':TNR,'False Negative':FNR,'BER':ber}"
   ]
  },
  {
   "cell_type": "markdown",
   "metadata": {},
   "source": [
    "# Problem 8"
   ]
  },
  {
   "cell_type": "code",
   "execution_count": 29,
   "metadata": {},
   "outputs": [
    {
     "name": "stderr",
     "output_type": "stream",
     "text": [
      "C:\\Users\\afong\\Anaconda3\\lib\\site-packages\\sklearn\\linear_model\\logistic.py:432: FutureWarning: Default solver will be changed to 'lbfgs' in 0.22. Specify a solver to silence this warning.\n",
      "  FutureWarning)\n"
     ]
    }
   ],
   "source": [
    "#Trains a balanced logistic regression model with beer review length to predict gender\n",
    "clf_bal = LogisticRegression(class_weight='balanced').fit(np.array(beer_len).reshape(-1,1), np.array(genders))"
   ]
  },
  {
   "cell_type": "code",
   "execution_count": 30,
   "metadata": {},
   "outputs": [],
   "source": [
    "#Predictions for the gender given beer review lengths\n",
    "pred_LRB = clf_bal.predict(np.array(beer_len).reshape(-1,1))"
   ]
  },
  {
   "cell_type": "code",
   "execution_count": 31,
   "metadata": {},
   "outputs": [],
   "source": [
    "#Finds the True Positive, False Positive, True Negative, and False Negative array values\n",
    "TP_bal = np.logical_and(pred_LRB, genders)\n",
    "FP_bal = np.logical_and(pred_LRB, np.logical_not(genders))\n",
    "TN_bal = np.logical_and(np.logical_not(pred_LRB), np.logical_not(genders))\n",
    "FN_bal = np.logical_and(np.logical_not(pred_LRB), genders)\n",
    "\n",
    "#Finds the number of True Positive, False Positive, True Negative, and False Negative\n",
    "TP_B = sum(TP_bal)\n",
    "FP_B = sum(FP_bal)\n",
    "TN_B = sum(TN_bal)\n",
    "FN_B = sum(FN_bal)\n",
    "\n",
    "#Converts To Rates\n",
    "TPR_B = TP_B/(TP_B+FN_B)\n",
    "FPR_B = FP_B/(FP_B+TN_B)\n",
    "TNR_B = TN_B/(TN_B+FP_B)\n",
    "FNR_B = FN_B/(FN_B+TP_B)\n",
    "\n",
    "# accuracy\n",
    "#sum(correct) / len(correct)\n",
    "#(TP + TN) / (TP + FP + TN + FN)\n",
    "\n",
    "#Calculates Balanced Error Rate\n",
    "ber_bal = 1 - 0.5 * (TP_B / (TP_B + FN_B) + TN_B / (TN_B + FP_B))"
   ]
  },
  {
   "cell_type": "code",
   "execution_count": 32,
   "metadata": {},
   "outputs": [
    {
     "data": {
      "text/plain": [
       "{'True Positive': 0.6461038961038961,\n",
       " 'False Positive': 0.5795969146553869,\n",
       " 'True Negative': 0.42040308534461307,\n",
       " 'False Negative': 0.3538961038961039,\n",
       " 'BER': 0.46674650927574546}"
      ]
     },
     "execution_count": 32,
     "metadata": {},
     "output_type": "execute_result"
    }
   ],
   "source": [
    "{'True Positive':TPR_B,'False Positive':FPR_B,'True Negative':TNR_B,'False Negative':FNR_B,'BER':ber_bal}"
   ]
  },
  {
   "cell_type": "markdown",
   "metadata": {},
   "source": [
    "# Problem 9"
   ]
  },
  {
   "cell_type": "markdown",
   "metadata": {},
   "source": [
    "I tested a variety of different features to be included in the improved model to lower BER, but the most successful combination I found was using beer/brewerID, review/overall, user/profileName, beer/ABV, and review/taste. I decided on these features because of how I thought female or male gendered drinkers would react to them. I thought since the data was so heavily biased towards male reviewers perhaps they would leave higher reviews and overall and for taste. This might be because they are more experienced with beers and are able to appreciate it more. They might also choose certain beers based on brand or alcohol content that inexperienced drinkers would not know to do by. I also expected that there would be slight deviations between male and female usernames. This thought process is what steered me towards these features."
   ]
  },
  {
   "cell_type": "code",
   "execution_count": 33,
   "metadata": {},
   "outputs": [],
   "source": [
    "#Created lists for the different features that would be used in this improved logistic regression model\n",
    "brewID = [int(d['beer/brewerId']) for d in with_gender]\n",
    "reviewO = [d['review/overall'] for d in with_gender]\n",
    "profile = [len(d['user/profileName']) for d in with_gender]\n",
    "#beerStyle = [len(d['beer/style']) for d in with_gender]\n",
    "#aroma = [d['review/aroma'] for d in with_gender]\n",
    "abv = [d['beer/ABV'] for d in with_gender]\n",
    "taste = [d['review/taste'] for d in with_gender]\n",
    "#palate = [d['review/palate'] for d in with_gender]\n",
    "#appear = [d['review/appearance'] for d in with_gender]"
   ]
  },
  {
   "cell_type": "code",
   "execution_count": 34,
   "metadata": {},
   "outputs": [
    {
     "name": "stderr",
     "output_type": "stream",
     "text": [
      "C:\\Users\\afong\\Anaconda3\\lib\\site-packages\\sklearn\\linear_model\\logistic.py:432: FutureWarning: Default solver will be changed to 'lbfgs' in 0.22. Specify a solver to silence this warning.\n",
      "  FutureWarning)\n"
     ]
    }
   ],
   "source": [
    "#Trains a balanced logistic regression model to predict gender\n",
    "improved_clf = LogisticRegression(class_weight='balanced')\\\n",
    "               .fit(np.array([beer_len,brewID,reviewO,profile,abv,taste]).T, np.array(genders))"
   ]
  },
  {
   "cell_type": "code",
   "execution_count": 35,
   "metadata": {},
   "outputs": [],
   "source": [
    "#Predictions for the gender\n",
    "impPred = improved_clf.predict(np.array([beer_len,brewID,reviewO,profile,abv,taste]).T)"
   ]
  },
  {
   "cell_type": "code",
   "execution_count": 36,
   "metadata": {},
   "outputs": [],
   "source": [
    "#Finds the True Positive, False Positive, True Negative, and False Negative array values\n",
    "TP_imp = np.logical_and(impPred, genders)\n",
    "FP_imp = np.logical_and(impPred, np.logical_not(genders))\n",
    "TN_imp = np.logical_and(np.logical_not(impPred), np.logical_not(genders))\n",
    "FN_imp = np.logical_and(np.logical_not(impPred), genders)\n",
    "\n",
    "#Finds the number of True Positive, False Positive, True Negative, and False Negative\n",
    "TP_I = sum(TP_imp)\n",
    "FP_I = sum(FP_imp)\n",
    "TN_I = sum(TN_imp)\n",
    "FN_I = sum(FN_imp)\n",
    "\n",
    "#Converts To Rates\n",
    "TPR_I = TP_I/(TP_I+FN_I)\n",
    "FPR_I = FP_I/(FP_I+TN_I)\n",
    "TNR_I = TN_I/(TN_I+FP_I)\n",
    "FNR_I = FN_I/(FN_I+TP_I)\n",
    "\n",
    "# accuracy\n",
    "#sum(correct) / len(correct)\n",
    "#(TP + TN) / (TP + FP + TN + FN)\n",
    "\n",
    "#Calculates Balanced Error Rate\n",
    "ber_imp = 1 - 0.5 * (TP_I / (TP_I + FN_I) + TN_I / (TN_I + FP_I))"
   ]
  },
  {
   "cell_type": "code",
   "execution_count": 37,
   "metadata": {},
   "outputs": [
    {
     "data": {
      "text/plain": [
       "{'True Positive': 0.6201298701298701,\n",
       " 'False Positive': 0.4988803184871859,\n",
       " 'True Negative': 0.5011196815128142,\n",
       " 'False Negative': 0.37987012987012986,\n",
       " 'BER': 0.43937522417865793}"
      ]
     },
     "execution_count": 37,
     "metadata": {},
     "output_type": "execute_result"
    }
   ],
   "source": [
    "{'True Positive':TPR_I,'False Positive':FPR_I,'True Negative':TNR_I,'False Negative':FNR_I,'BER':ber_imp}"
   ]
  },
  {
   "cell_type": "code",
   "execution_count": null,
   "metadata": {},
   "outputs": [],
   "source": []
  }
 ],
 "metadata": {
  "kernelspec": {
   "display_name": "Python 3",
   "language": "python",
   "name": "python3"
  },
  "language_info": {
   "codemirror_mode": {
    "name": "ipython",
    "version": 3
   },
   "file_extension": ".py",
   "mimetype": "text/x-python",
   "name": "python",
   "nbconvert_exporter": "python",
   "pygments_lexer": "ipython3",
   "version": "3.7.4"
  }
 },
 "nbformat": 4,
 "nbformat_minor": 2
}
